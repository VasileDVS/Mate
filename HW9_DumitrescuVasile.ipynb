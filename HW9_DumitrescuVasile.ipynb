{
  "nbformat": 4,
  "nbformat_minor": 0,
  "metadata": {
    "colab": {
      "provenance": []
    },
    "kernelspec": {
      "name": "python3",
      "display_name": "Python 3"
    },
    "language_info": {
      "name": "python"
    }
  },
  "cells": [
    {
      "cell_type": "markdown",
      "source": [
        "# Homework 9-10. Solution"
      ],
      "metadata": {
        "id": "81CiVtvgz8Ut"
      }
    },
    {
      "cell_type": "markdown",
      "source": [
        "### Statement of the mathematical programming problem\n"
      ],
      "metadata": {
        "id": "jNVmLagDp8q8"
      }
    },
    {
      "cell_type": "markdown",
      "source": [
        "|Resource|Landing for \\$2000|Online store for \\$9000|ERP integration for \\$6000|Number of hours|\n",
        "|:---|:---:|:---:|:---:|:---:|\n",
        "|Designer|12|6|2|360|\n",
        "|Developer|12|24|18|192|\n",
        "|Tester|12|12|12|180|"
      ],
      "metadata": {
        "id": "nzmvt3cya5AF"
      }
    },
    {
      "cell_type": "markdown",
      "source": [
        "$$\n",
        "2x_1+9x_2+6x_3→max,\n",
        "\\\\\n",
        "\\begin{equation*}\n",
        " \\begin{cases}\n",
        " 12x_1+6x_2+2x_3≤320,\n",
        " \\\\\n",
        " 12x_1+24x_2+18x_3≤192,\n",
        " \\\\\n",
        " 12x_1+12x_2+12x_3≤180,\n",
        " \\\\\n",
        " x_1,x_2,x_3≥0,\n",
        " \\end{cases}\n",
        "\\end{equation*}\n",
        "$$"
      ],
      "metadata": {
        "id": "I_V1kjPxcW9T"
      }
    },
    {
      "cell_type": "code",
      "source": [
        "from scipy.optimize import linprog\n",
        "\n",
        "c = [-2 , -9, -6]  # Objective function - to the minimum\n",
        "A_ub = [\n",
        "    [12, 6,2],\n",
        "    [12, 24,18],\n",
        "    [12, 18,12],\n",
        "    [-1, 0,0],\n",
        "    [0,-1, 0],\n",
        "    [0,0, -1],\n",
        "]  # Coefficients for inequalities\n",
        "b_ub = [320,192,180,0,0,0]  # Results for inequalities\n",
        "\n",
        "print(linprog(c, A_ub, b_ub))  # Optimization"
      ],
      "metadata": {
        "colab": {
          "base_uri": "https://localhost:8080/"
        },
        "id": "4frY4QGLhI65",
        "outputId": "5a956b3b-8e11-48a2-a51c-9ebd7162a9cc"
      },
      "execution_count": null,
      "outputs": [
        {
          "output_type": "stream",
          "name": "stdout",
          "text": [
            "        message: Optimization terminated successfully. (HiGHS Status 7: Optimal)\n",
            "        success: True\n",
            "         status: 0\n",
            "            fun: -72.0\n",
            "              x: [ 0.000e+00  8.000e+00  0.000e+00]\n",
            "            nit: 1\n",
            "          lower:  residual: [ 0.000e+00  8.000e+00  0.000e+00]\n",
            "                 marginals: [ 2.500e+00  0.000e+00  7.500e-01]\n",
            "          upper:  residual: [       inf        inf        inf]\n",
            "                 marginals: [ 0.000e+00  0.000e+00  0.000e+00]\n",
            "          eqlin:  residual: []\n",
            "                 marginals: []\n",
            "        ineqlin:  residual: [ 2.720e+02  0.000e+00  3.600e+01  0.000e+00\n",
            "                              8.000e+00  0.000e+00]\n",
            "                 marginals: [-0.000e+00 -3.750e-01 -0.000e+00 -0.000e+00\n",
            "                             -0.000e+00 -0.000e+00]\n",
            " mip_node_count: 0\n",
            " mip_dual_bound: 0.0\n",
            "        mip_gap: 0.0\n"
          ]
        }
      ]
    },
    {
      "cell_type": "markdown",
      "source": [
        "Optimal distribution by services - to create $8$ online stores"
      ],
      "metadata": {
        "id": "e_gxreLVx1wO"
      }
    }
  ]
}