{
  "nbformat": 4,
  "nbformat_minor": 0,
  "metadata": {
    "colab": {
      "provenance": []
    },
    "kernelspec": {
      "name": "python3",
      "display_name": "Python 3"
    },
    "language_info": {
      "name": "python"
    }
  },
  "cells": [
    {
      "cell_type": "markdown",
      "source": [
        "Task 1\n",
        "\n",
        "\n",
        "|#|Scenario 1|Scenario 2|Scenario 3|Scenario 4|\n",
        "|:---:|:---:|:---:|:---:|:---:|\n",
        "|A|0,05 / 0|0,25 / 25 |0,3 / 40 |0,4 / 80|\n",
        "|B|0,2 / 10|0,25 / 30|0,25 / 60 |0,3 / 70|"
      ],
      "metadata": {
        "id": "Cru-4YqlEBiA"
      }
    },
    {
      "cell_type": "markdown",
      "source": [
        "Calculate the expected profitability of each option:"
      ],
      "metadata": {
        "id": "gdexpGLBGRWm"
      }
    },
    {
      "cell_type": "code",
      "execution_count": null,
      "metadata": {
        "colab": {
          "base_uri": "https://localhost:8080/"
        },
        "id": "lwa36zjiEA4-",
        "outputId": "39a242ff-904f-42ca-8dd0-2f7fa19758b0"
      },
      "outputs": [
        {
          "output_type": "stream",
          "name": "stdout",
          "text": [
            "50.25\n"
          ]
        }
      ],
      "source": [
        "MO1 = 0.05*0+0.25*25+0.3*40+0.4*80\n",
        "print(MO1)"
      ]
    },
    {
      "cell_type": "code",
      "execution_count": null,
      "metadata": {
        "colab": {
          "base_uri": "https://localhost:8080/"
        },
        "outputId": "8bd4b81f-341a-43a7-bacb-3a72ce3032d1",
        "id": "0wnsQRYkF6zl"
      },
      "outputs": [
        {
          "output_type": "stream",
          "name": "stdout",
          "text": [
            "45.5\n"
          ]
        }
      ],
      "source": [
        "MO2 = 0.2*10+0.25*30+0.25*60+0.3*70\n",
        "print(MO2)"
      ]
    },
    {
      "cell_type": "markdown",
      "source": [
        "We can conclude that option **A** is more appealing."
      ],
      "metadata": {
        "id": "zTZd5K4PgF2u"
      }
    },
    {
      "cell_type": "markdown",
      "source": [
        "Task 2\n",
        "\n",
        "|#|Scenario 1|Scenario 2|Scenario 3|Scenario 4|\n",
        "|:---:|:---:|:---:|:---:|:---:|\n",
        "|A1|0,00 / 0|0,3 / 15 |0,3 / 30 |0,4 / 70|\n",
        "|B|0,2 / 10|0,25 / 30|0,25 / 60 |0,3 / 70|"
      ],
      "metadata": {
        "id": "XfvpEKE9Gj1j"
      }
    },
    {
      "cell_type": "code",
      "source": [
        "MO_A1 =0.3*15+0.3*30+0.4*70\n",
        "print(MO_A1)"
      ],
      "metadata": {
        "colab": {
          "base_uri": "https://localhost:8080/"
        },
        "id": "P1NPgRK9HLPE",
        "outputId": "4ec552b8-b357-48a9-db35-5b2e8e25a60c"
      },
      "execution_count": null,
      "outputs": [
        {
          "output_type": "stream",
          "name": "stdout",
          "text": [
            "41.5\n"
          ]
        }
      ]
    },
    {
      "cell_type": "markdown",
      "source": [
        "It can be concluded that the company's elaboration of the project, taking into account the cost of their work (which reduces the potential profit for each option), does not increase the potential return on the project."
      ],
      "metadata": {
        "id": "3_HHZuDBGhtq"
      }
    },
    {
      "cell_type": "markdown",
      "source": [
        "Task 3\n",
        "\n",
        "X = [11.3, 13.5, 9.76, 11.51, 11.1, 11.16, 12.83, 9.3, 12.99, 8.76, 9.17, 8.34, 15.23, 11.51, 10.76, 3.22, 8.86, 14.16, 7.27, 10.74, 9.8, 10.21, 8.7, 11.73, 10.78, 6.53, 9.03, 15.85, 6.55, 10.13, 9.07, 13.63, 10.92, 7.88, 4.85, 7.78, 10.95, 4.26, 9.59, 9.21, 8.96, 8.22, 13.36, 11.49, 11.43, 12.25, 16.3, 7.63, 10.45, 10.21, 6.1, 11.14, 10.94, 11.47, 12.06, 9.22, 11.36, 13.54, 9.54, 12.35, 14.11, 8.47, 15.37, 7.59, 4.25, 13.53, 9.2, 7.65, 3.37, 12.02, 12.37, 8.06, 8.06, 11.42, 7.36, 13.19, 13.09, 12.24, 10.78, 8.36, 12.37, 4.97, 10.46, 5.68, 8.98, 12.58, 11.0, 12.13, 10.83, 8.96, 12.02, 5.74, 12.7, 9.98, 12.44, 12.62, 11.06, 11.73, 10.69, 12.16]"
      ],
      "metadata": {
        "id": "gs7mYOv4gpZr"
      }
    },
    {
      "cell_type": "code",
      "source": [
        "import numpy as np\n",
        "import matplotlib.pyplot as plt\n",
        "import random\n",
        "\n",
        "X = [11.3, 13.5, 9.76, 11.51, 11.1, 11.16, 12.83, 9.3, 12.99, 8.76, 9.17, 8.34, 15.23, 11.51, 10.76, 3.22, 8.86, 14.16, 7.27, 10.74, 9.8, 10.21, 8.7, 11.73, 10.78, 6.53, 9.03, 15.85, 6.55, 10.13, 9.07, 13.63, 10.92, 7.88, 4.85, 7.78, 10.95, 4.26, 9.59, 9.21, 8.96, 8.22, 13.36, 11.49, 11.43, 12.25, 16.3, 7.63, 10.45, 10.21, 6.1, 11.14, 10.94, 11.47, 12.06, 9.22, 11.36, 13.54, 9.54, 12.35, 14.11, 8.47, 15.37, 7.59, 4.25, 13.53, 9.2, 7.65, 3.37, 12.02, 12.37, 8.06, 8.06, 11.42, 7.36, 13.19, 13.09, 12.24, 10.78, 8.36, 12.37, 4.97, 10.46, 5.68, 8.98, 12.58, 11.0, 12.13, 10.83, 8.96, 12.02, 5.74, 12.7, 9.98, 12.44, 12.62, 11.06, 11.73, 10.69, 12.16]\n",
        "N=len(X) # sample size\n",
        "\n",
        "# Create 2 arrays: n - the number of elements in each bin, x - the bin edges\n",
        "print(np.histogram(X, bins=13))\n",
        "n,x=np.histogram(X, bins=13)\n",
        "\n",
        "\n",
        "# Print the empirical histogram of reduced frequencies\n",
        "plt.bar(xmid, y, width=dx, color='y')\n",
        "\n",
        "# Print axis labels\n",
        "plt.xlabel('x')\n",
        "plt.ylabel('Frequency (probability)')\n",
        "\n",
        "# Print the grid and histogram\n",
        "plt.grid()\n",
        "plt.show()"
      ],
      "metadata": {
        "colab": {
          "base_uri": "https://localhost:8080/",
          "height": 501
        },
        "id": "sY5I8VBjgtnM",
        "outputId": "8137e753-9f5d-430b-916b-cb39b3f30214"
      },
      "execution_count": null,
      "outputs": [
        {
          "output_type": "stream",
          "name": "stdout",
          "text": [
            "(array([ 2,  4,  3,  2, 10, 15,  9, 16, 17, 11,  7,  1,  3]), array([ 3.22      ,  4.22615385,  5.23230769,  6.23846154,  7.24461538,\n",
            "        8.25076923,  9.25692308, 10.26307692, 11.26923077, 12.27538462,\n",
            "       13.28153846, 14.28769231, 15.29384615, 16.3       ]))\n"
          ]
        },
        {
          "output_type": "display_data",
          "data": {
            "text/plain": [
              "<Figure size 640x480 with 1 Axes>"
            ],
            "image/png": "[encoded data removed]"
          },
          "metadata": {}
        }
      ]
    },
    {
      "cell_type": "markdown",
      "source": [
        "Task 5"
      ],
      "metadata": {
        "id": "bE8el5JADjqV"
      }
    },
    {
      "cell_type": "code",
      "source": [
        "# Connect to Google Drive\n",
        "from google.colab import drive\n",
        "drive.mount('/content/drive')\n",
        "import pandas as pd\n",
        "file_path = '/content/drive/MyDrive/ds/mat_stat.csv'\n",
        "\n",
        "# Alternative from a student\n",
        "# # link to the file on Google Drive\n",
        "# google_drive_link = 'https://drive.google.com/file/d/1yUO8eFB-Io0hf3OCv8Ev6Xx52w4CegXK/view?usp=drive_link'\n",
        "# # file ID from the link\n",
        "# file_id = google_drive_link.split('/')[-2]\n",
        "# # link to download the file\n",
        "# download_link = f'https://drive.google.com/uc?id={file_id}'\n",
        "# # file download\n",
        "data = pd.read_csv(download_link)\n",
        "\n",
        "# Create an object that contains our dataset\n",
        "value_data = pd.read_csv(file_path, sep = ';')\n",
        "\n",
        "value_data.describe()\n",
        "# value_data.head()\n",
        "print(value_data.Q57)\n",
        "print(len(value_data.Q57))"
      ],
      "metadata": {
        "colab": {
          "base_uri": "https://localhost:8080/"
        },
        "id": "S7JFquyljf9L",
        "outputId": "e2d7c6e3-4ce0-4423-9288-aa89518e4051"
      },
      "execution_count": null,
      "outputs": [
        {
          "output_type": "stream",
          "name": "stdout",
          "text": [
            "Mounted at /content/drive\n",
            "0       2\n",
            "1       2\n",
            "2       2\n",
            "3       2\n",
            "4       1\n",
            "       ..\n",
            "1284    2\n",
            "1285    2\n",
            "1286    2\n",
            "1287    2\n",
            "1288    2\n",
            "Name: Q57, Length: 1289, dtype: int64\n",
            "1289\n"
          ]
        }
      ]
    },
    {
      "cell_type": "code",
      "source": [
        "import math\n",
        "x = value_data.Q57\n",
        "y = value_data.Q59\n",
        "\n",
        "# Calculate the sum and average\n",
        "sum_x = sum(x)\n",
        "avg_x = sum(x)/len(x)\n",
        "sum_y = sum(y)\n",
        "avg_y = sum(y)/len(y)\n",
        "\n",
        "# Calculate the differences between the original series and the average of the series\n",
        "x_minus_avg = []\n",
        "y_minus_avg = []\n",
        "for i in range(len(x)):\n",
        "  x_minus_avg.append(x[i]-avg_x)\n",
        "  y_minus_avg.append(y[i]-avg_y)\n",
        "\n",
        "# Calculate the squares of the differences of the series values from their averages and the product of the differences of the series values from their averages for different variables\n",
        "xma2 = []\n",
        "yma2 = []\n",
        "xma_yma = []\n",
        "for i in range(len(x_minus_avg)):\n",
        "  xma2.append(x_minus_avg[i]**2)\n",
        "  yma2.append(y_minus_avg[i]**2)\n",
        "  xma_yma.append(x_minus_avg[i]*y_minus_avg[i])\n",
        "\n",
        "# Calculate the sums of the obtained series\n",
        "sum_xma2 = sum(xma2)\n",
        "sum_yma2 = sum(yma2)\n",
        "sum_xma_yma = sum(xma_yma)\n",
        "\n",
        "# Calculate Pearson's correlation coefficient\n",
        "r_x_y = sum_xma_yma/(math.sqrt(sum_xma2*sum_yma2))\n",
        "print(r_x_y )\n",
        "if r_x_y >0:\n",
        "  print(\"A strong correlation has been found\")"
      ],
      "metadata": {
        "colab": {
          "base_uri": "https://localhost:8080/",
          "height": 211
        },
        "id": "VldC03avk3ii",
        "outputId": "e84ec3d4-916f-46c7-f0e5-79d3268d1644"
      },
      "execution_count": null,
      "outputs": [
        {
          "output_type": "error",
          "ename": "NameError",
          "evalue": "name 'value_data' is not defined",
          "traceback": [
            "\u001b[0;31m---------------------------------------------------------------------------\u001b[0m",
            "\u001b[0;31mNameError\u001b[0m                                 Traceback (most recent call last)",
            "\u001b[0;32m<ipython-input-3-4a24d9c865bc>\u001b[0m in \u001b[0;36m<cell line: 2>\u001b[0;34m()\u001b[0m\n\u001b[1;32m      1\u001b[0m \u001b[0;32mimport\u001b[0m \u001b[0mmath\u001b[0m\u001b[0;34m\u001b[0m\u001b[0;34m\u001b[0m\u001b[0m\n\u001b[0;32m----> 2\u001b[0;31m \u001b[0mx\u001b[0m \u001b[0;34m=\u001b[0m \u001b[0mvalue_data\u001b[0m\u001b[0;34m.\u001b[0m\u001b[0mQ57\u001b[0m\u001b[0;34m\u001b[0m\u001b[0;34m\u001b[0m\u001b[0m\n\u001b[0m\u001b[1;32m      3\u001b[0m \u001b[0my\u001b[0m \u001b[0;34m=\u001b[0m \u001b[0mvalue_data\u001b[0m\u001b[0;34m.\u001b[0m\u001b[0mQ59\u001b[0m\u001b[0;34m\u001b[0m\u001b[0;34m\u001b[0m\u001b[0m\n\u001b[1;32m      4\u001b[0m \u001b[0;34m\u001b[0m\u001b[0m\n\u001b[1;32m      5\u001b[0m \u001b[0;31m# Calculate the sum and average\u001b[0m\u001b[0;34m\u001b[0m\u001b[0;34m\u001b[0m\u001b[0m\n",
            "\u001b[0;31mNameError\u001b[0m: name 'value_data' is not defined"
          ]
        }
      ]
    }
  ]
}