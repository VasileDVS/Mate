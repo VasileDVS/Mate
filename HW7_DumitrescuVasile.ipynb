{
  "nbformat": 4,
  "nbformat_minor": 0,
  "metadata": {
    "colab": {
      "provenance": []
    },
    "kernelspec": {
      "name": "python3",
      "display_name": "Python 3"
    },
    "language_info": {
      "name": "python"
    }
  },
  "cells": [
    {
      "cell_type": "markdown",
      "source": [
        "## Task 1\n",
        "15 flights depart from the airport during the day, 60% of them are carried out with the airport's own aircraft fleet. Find the probability that out of 5 randomly selected flights exactly 3 are carried out with the airport's own fleet.\n",
        "\n",
        "According to the conditions of the problem, 60%.\n",
        "\n",
        "*Tasks on the Bernoulli formula*\n",
        "\n",
        "Out of a total of 5 airplanes, selecting 3 can be done in $C_5^3 = \\frac{5!} { 3!  (5 - 3)!}=10$ ways. In each of them, the probability of success will be $0.6^3 \\cdot 0.4^2 = 0.03456$.\n",
        "\n",
        "As a result, we get $P(X = 3) = 10 \\cdot 0.6^3 \\cdot 0.4^2 = 10 \\cdot 0.216 \\cdot 0.16 = 0.3456$.\n",
        "\n",
        "\n",
        "---\n",
        "$ P = \\frac{C^3_{15*0.6}*C^{5-3}_{15*(1-0.6)}}{C^5_{15}} = \\frac{C^3_9*C^2_6}{C^5_{15}} $\n",
        "\n",
        "$ P = \\frac{\\frac{9!}{3!(9-3)!}\\frac{6!}{2!(6-2)!}}{\\frac{15!}{5!(15-5)!}} = \\frac{\\frac{7*8*9}{6}\\frac{5*6}{2}}{\\frac{11*12*13*14*15}{120}} = \\frac{84*15}{3003} = 0.41958 $"
      ],
      "metadata": {
        "id": "ks6lmSUXz2Kz"
      }
    },
    {
      "cell_type": "code",
      "source": [
        "import itertools\n",
        "import numpy as np\n",
        "val = [1, 2, 3, 4, 5,6,7,8,9, 10, 11, 12,14, 15]\n",
        "perm_set = itertools.permutations(val, 5)\n",
        "n = 0\n",
        "for comb in perm_set:\n",
        "    if sum(np.array(comb) <= 9) == 3:\n",
        "        n += 1\n",
        "print(n/len(list(itertools.permutations(val,5))))"
      ],
      "metadata": {
        "colab": {
          "base_uri": "https://localhost:8080/"
        },
        "id": "TtEl9u64TCF7",
        "outputId": "37c06140-5f0e-43c2-e0fa-9fc407d2973d"
      },
      "execution_count": null,
      "outputs": [
        {
          "output_type": "stream",
          "name": "stdout",
          "text": [
            "0.4195804195804196\n"
          ]
        }
      ]
    },
    {
      "cell_type": "code",
      "source": [
        "np.array(comb)"
      ],
      "metadata": {
        "colab": {
          "base_uri": "https://localhost:8080/"
        },
        "id": "AkWzh9KWUSkl",
        "outputId": "c8bad279-545a-4f9a-98f1-640848b68eb9"
      },
      "execution_count": null,
      "outputs": [
        {
          "output_type": "execute_result",
          "data": {
            "text/plain": [
              "array([15, 14, 12, 11, 10])"
            ]
          },
          "metadata": {},
          "execution_count": 14
        }
      ]
    },
    {
      "cell_type": "code",
      "source": [
        "len(list(itertools.permutations(val,5)))"
      ],
      "metadata": {
        "colab": {
          "base_uri": "https://localhost:8080/"
        },
        "id": "sRyv6MwOT_0k",
        "outputId": "fb251b54-86a5-4795-c4e5-3b1cf980d59b"
      },
      "execution_count": null,
      "outputs": [
        {
          "output_type": "execute_result",
          "data": {
            "text/plain": [
              "240240"
            ]
          },
          "metadata": {},
          "execution_count": 7
        }
      ]
    },
    {
      "cell_type": "markdown",
      "source": [
        "## Task 2\n",
        "10 aircrafts arrive to the airport during the day, 80% of them are fully commercially loaded. Find the probability that among five randomly selected aircrafts only 4 are fully loaded."
      ],
      "metadata": {
        "id": "rMjO9FLg7gcp"
      }
    },
    {
      "cell_type": "markdown",
      "source": [
        "The probability that one airplane is fully loaded equals the probability of success (full loading) - 80% or 0.8, and the probability of failure (not fully loaded) - 20% or 0.2.\n",
        "\n",
        "*Task using the Bernoulli formula.*\n",
        "\n",
        "$P(X = k) =C_n^k * p^k * (1 - p)^{(n - k)}$\n",
        "\n",
        "Where:\n",
        "- $n$ is the number of trials (5 airplanes),\n",
        "- $k$ is the number of successes (4 airplanes fully loaded),\n",
        "- $p$ is the probability of success (airplane fully loaded, 0.8),\n",
        "- $C_n^k$ is the number of combinations of n choose k.\n",
        "\n",
        "$P(X = 4) =C_5^4 \\cdot 0.8^4 \\cdot 0.2^(5 - 4).$  \n",
        "$C_5^4 = \\frac{5!} { 4! \\cdot (5 - 4)!} = 5.$\n",
        "\n",
        "$P(X = 4) = 5 \\cdot 0.8^4 \\cdot 0.2^1 ≈ 0.4096.$\n",
        "\n",
        "---\n",
        "$ P = \\frac{C^4_8C^1_2}{C^5_{10}} $\n",
        "\n",
        "$ P = \\frac{8!2!5!5!}{4!4!1!1!10!} = \\frac{2*5*5}{9*10} = \\frac{5}{9} = 0.5556 $\n"
      ],
      "metadata": {
        "id": "awMXvpK_8zUK"
      }
    },
    {
      "cell_type": "markdown",
      "source": [
        "## Task 3\n",
        "12 men and 8 women take part in an influencer contest. There are two prize places. Assuming that the selection of candidates is random, what is the probability that both places will be taken by women?"
      ],
      "metadata": {
        "id": "35qK8Hjg5Lw1"
      }
    },
    {
      "cell_type": "markdown",
      "source": [
        "*Task on the formula for event probability in the case of random selection without returning.*\n",
        "\n",
        "The probability of randomly selecting a woman is equal to 8/20 = 0.4.\n",
        "The number of options to choose 2 people out of 20 is $C_{20}^2 = \\frac{A_{20}^2}{P_2} = \\frac{20!}{2!(18)!} = \\frac{20 \\cdot 19}{2}=190$.\n",
        "The number of options to choose 2 women out of 8 is $C_{8}^2 = \\frac{A_{8}^2}{P_2} = \\frac{8!}{2!(6)!} = \\frac{8 \\cdot 7}{2}=28$.\n",
        "\n",
        "The probability of choosing 2 women will be equal to the ratio of these options.\n",
        "$P(A)= \\frac{C_{8}^2}{C_{20}^2}=\\frac{28}{190}=0.147$."
      ],
      "metadata": {
        "id": "64v7Gsv_hKac"
      }
    },
    {
      "cell_type": "markdown",
      "source": [
        "\n",
        "$C_n^k =C_{20}^2 = \\cfrac{A_{20}^2}{P_2} = \\cfrac{20!}{2!(18)!} = \\cfrac{20!}{2!(18)!} = \\cfrac{20 \\cdot 19}{2}=190 $\n",
        "\n",
        "$C_n^k =C_{8}^2 = \\cfrac{A_{8}^2}{P_2} = \\cfrac{8!}{2!(6)!}  = \\cfrac{8 \\cdot 7}{2}=28 $\n",
        "\n",
        "$P(A)= \\cfrac{C_{8}^2}{C_{20}^2}=\\cfrac{28}{190}=0,147$"
      ],
      "metadata": {
        "id": "05vxAu_x5RyZ"
      }
    },
    {
      "cell_type": "code",
      "source": [
        "import itertools\n",
        "val = [1,2,3,4,5,6,7,8,9,10,11,12,13,14,15,16,17,18,19,20]\n",
        "perm_set = itertools.combinations(val,2)\n",
        "def nn(lst):\n",
        "  answer = False\n",
        "  n = 0\n",
        "  for el in lst:\n",
        "    if int(el)<=8:\n",
        "      n+=1\n",
        "  if n == 2:\n",
        "    answer = True\n",
        "  return answer\n",
        "n=0\n",
        "k=0\n",
        "for elem in perm_set:\n",
        "  if nn(elem):\n",
        "    k+=1\n",
        "  n+=1\n",
        "print(f\"{k}|{n}|{k/n}\")"
      ],
      "metadata": {
        "colab": {
          "base_uri": "https://localhost:8080/"
        },
        "id": "C9WK_TOwinxh",
        "outputId": "52b129be-cbbc-4ae0-aa69-c9cba4aa7f18"
      },
      "execution_count": null,
      "outputs": [
        {
          "output_type": "stream",
          "name": "stdout",
          "text": [
            "28|190|0.14736842105263157\n"
          ]
        }
      ]
    },
    {
      "cell_type": "markdown",
      "source": [
        "## Task 4\n",
        "\n",
        "The figure shows an electrical circuit diagram. The current does not flow through a section of the circuit that is out of order. Let event\n",
        "$A_i$ be the failure of element $i$ , $i =1, 6$. Express events $A$ and $\\overline{A}$\n",
        "through events, if $A_i$, if $A$ is the failure of the entire circuit."
      ],
      "metadata": {
        "id": "cJFQ7Ic69Ufj"
      }
    },
    {
      "cell_type": "markdown",
      "source": [
        "![image.png](data:image/png;base64,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)"
      ],
      "metadata": {
        "id": "xod5envZPIBT"
      }
    },
    {
      "cell_type": "markdown",
      "source": [
        "Let's look at the first block:  \n",
        "$A=(A_1 \\cdot A_2) + A_5 \\cdot (A_3 + A_4) + A_6$  \n",
        "$\\overline{A} = (\\overline{A_1} + \\overline{A_2})\\cdot (\\overline{A_5} + \\overline{A_3} \\cdot \\overline{A_4}) \\cdot \\overline{A_6}$\n"
      ],
      "metadata": {
        "id": "Wwy-8MLKQyFG"
      }
    },
    {
      "cell_type": "markdown",
      "source": [
        "## Task 5\n",
        "To study demand, 1000 customers were surveyed. It was found that 811 customers like chocolate, 752 like candies, 418 like lollipops, 570 like both chocolate and candies, 356 like both chocolate and lollipops, 348 like both candies and lollipops, 297 like all three types of candy. Find and show that this information contains errors.\n",
        "\n",
        "The total number is calculated as follows: (chocolates) + (candies) + (lollipops) - (chocolates and candies) - (chocolates and lollipops) - (candies and lollipops) + (all three types of sweets)\n",
        "\n",
        "Total number = 811 + 752 + 418 - 570 - 356 - 348 + 297 = 1004\n",
        "\n",
        "Given that the initial information states the participation of 1000 buyers in the study, there seems to be an inconsistency in the data."
      ],
      "metadata": {
        "id": "ieo0vfSe9iuI"
      }
    },
    {
      "cell_type": "markdown",
      "source": [
        "## Task 6\n",
        "\n",
        "Three dice are thrown. What is more likely: to get a total of 11 or 12 points?\n",
        "\n",
        "The solution involves listing all possible combinations, which is most easily done using a program.\n",
        "Let's generate all the options and list those where the sum of points is equal to 11 and 12."
      ],
      "metadata": {
        "id": "IGHK4YZg-BET"
      }
    },
    {
      "cell_type": "code",
      "source": [
        "import itertools\n",
        "val = [1, 2, 3, 4, 5,6]\n",
        "comb = itertools.product(val, repeat=3)\n",
        "scores = list(comb)\n",
        "\n",
        "n=0\n",
        "n1=0\n",
        "n2=0\n",
        "lst = scores\n",
        "for elem in lst:\n",
        "  if sum(elem) == 12:\n",
        "    n2+=1\n",
        "  if sum(elem) == 11:\n",
        "    n1+=1\n",
        "print(f\"n1 = {n1}, n2 = {n2}, n = {n}\")"
      ],
      "metadata": {
        "colab": {
          "base_uri": "https://localhost:8080/"
        },
        "id": "2eGeUWJgtyge",
        "outputId": "556b924c-8634-4c34-efa5-ea72ab55bc82"
      },
      "execution_count": null,
      "outputs": [
        {
          "output_type": "stream",
          "name": "stdout",
          "text": [
            "n1 = 27, n2 = 25, n = 0\n"
          ]
        }
      ]
    },
    {
      "cell_type": "markdown",
      "source": [
        "As you can see, the probability of getting 11 points is higher."
      ],
      "metadata": {
        "id": "4VCQ3PQlviz6"
      }
    },
    {
      "cell_type": "markdown",
      "source": [
        "## Task 7\n",
        "On ten identical cards, numbers from 0 to 9 are written. Determine the probability that a randomly formed number using these cards\n",
        "а)  is a two-digit number multiple of 18; b) is a three-digit number multiple of 36.\n"
      ],
      "metadata": {
        "id": "JJTfvtH4xro4"
      }
    },
    {
      "cell_type": "markdown",
      "source": [
        "*Solution for part a)*\n",
        "The total number of options, assuming we can form combinations with the lead zero, is given by:\n",
        "$A_n^k= \\cfrac{n!}{(n-k)!} = \\cfrac{10!}{(8)!} =10 \\cdot9=90 $  \n",
        "\n",
        "We need to remove the $9$ options where the lead is $0$, leaving us with $81$ possibilities.  \n",
        "The maximum number that can be formed on the cards is $98$.\n",
        "$98 / 18 = 5.4$\n",
        "So, we can form multiples of $18$ with two cards, $5$ times:\n",
        "$18$\n",
        "$36$\n",
        "$54$\n",
        "$72$\n",
        "$90$\n",
        "All these options are available.\n",
        "Hence, the probability of forming a multiple of $18$ is:\n",
        "$P = 5/81 = 0.0617$"
      ],
      "metadata": {
        "id": "g76j-8_qxur3"
      }
    },
    {
      "cell_type": "markdown",
      "source": [],
      "metadata": {
        "id": "8rhkbaFfz9Hh"
      }
    },
    {
      "cell_type": "code",
      "source": [
        "import itertools\n",
        "val = [0,1, 2, 3, 4, 5,6,7,8,9]\n",
        "perm_set = itertools.permutations(val,2)\n",
        "n=0\n",
        "n1=0\n",
        "for elem in perm_set:\n",
        "#   print(elem)\n",
        "  if elem[0]!=0:\n",
        "    n+=1\n",
        "  if (elem[0]*10+elem[1]) %18 ==0:\n",
        "    n1+=1\n",
        "print(f\"n1 = {n1}, n={n}, p = {n1/n}\")\n"
      ],
      "metadata": {
        "colab": {
          "base_uri": "https://localhost:8080/"
        },
        "id": "7I-jCY7NxSwo",
        "outputId": "b1dc89f2-2969-4789-e25a-010f4dc54e86"
      },
      "execution_count": null,
      "outputs": [
        {
          "output_type": "stream",
          "name": "stdout",
          "text": [
            "n1 = 5, n=81, p = 0.06172839506172839\n"
          ]
        }
      ]
    },
    {
      "cell_type": "markdown",
      "source": [
        "*Solution for part b)*\n",
        "The total number of options for a three-digit number is:\n",
        "$A_n^k= \\cfrac{n!}{(n-k)!} = \\cfrac{10!}{(7)!} =10 \\cdot 9 \\cdot 8 = 720 $\n",
        "The number of options if the first card is $0$ (not a three-digit number) is $A_9^2= \\cfrac{9!}{(9-2)!} = \\cfrac{9!}{(7)!} = 9 \\cdot 8 = 72 $  \n",
        "So, the number of three-digit number options that can be formed is $720 - 72 = 648$.\n",
        "The number of three-digit numbers that are multiples of $36$:\n",
        "108 (1), 144(-), 180(2),216(3),252(-),288(-),324(4),360(5),369(6),432(7),468(8), 504(9),540(10), 576(11), 612(12),648(13),684(14),720(15),756(16),792(17), 828(-), 864(18),900(-), 936(19),972(20). Total 20 options.\n",
        "The probability of such an outcome is:  \n",
        "$P = \\cfrac{20}{648} = 0.03086$                   "
      ],
      "metadata": {
        "id": "sCN_VexIz-IB"
      }
    },
    {
      "cell_type": "code",
      "source": [
        "import itertools\n",
        "val = [0,1, 2, 3, 4, 5,6,7,8,9]\n",
        "perm_set = itertools.permutations(val,3)\n",
        "n=0\n",
        "n1=0\n",
        "for elem in perm_set:\n",
        "\n",
        "  if elem[0]!=0:\n",
        "    n+=1\n",
        "    if (elem[0]*100+elem[1]*10+elem[2])%36 ==0:\n",
        "    #   print(elem)\n",
        "      n1+=1\n",
        "print(f\"n1 = {n1}, n={n}, p = {n1/n}\")\n"
      ],
      "metadata": {
        "colab": {
          "base_uri": "https://localhost:8080/"
        },
        "id": "fEBUW04D3zUa",
        "outputId": "b5fcad6c-dee9-48ae-c4e5-6b6c017252fd"
      },
      "execution_count": null,
      "outputs": [
        {
          "output_type": "stream",
          "name": "stdout",
          "text": [
            "n1 = 20, n=648, p = 0.030864197530864196\n"
          ]
        }
      ]
    },
    {
      "cell_type": "markdown",
      "source": [
        "## Task 8\n",
        "Two concentric circles with radii of 5 and 10 cm are drawn on a plane. Find the probability that a point thrown randomly into the large circle will also fall into the ring formed by the circles."
      ],
      "metadata": {
        "id": "0pbHLlyF-dwC"
      }
    },
    {
      "cell_type": "markdown",
      "source": [
        "*Geometric Probability Problem*\n",
        "Area of the large circle:\n",
        "$S_1 = \\pi R^2 = \\pi (10)^2 = 100 \\pi$\n",
        "\n",
        "Area of the small circle:\n",
        "$S_2 = \\pi R^2 = \\pi (5)^2 = 25 \\pi$\n",
        "\n",
        "Area of the ring:\n",
        "$S = S_1 - S_2 = 100 \\pi - 25 \\pi = 75 \\pi$\n",
        "\n",
        "Probability of a point landing inside the ring:\n",
        "$P = \\frac{S}{S_1} = \\frac{75 \\pi}{100 \\pi} = 0.75$"
      ],
      "metadata": {
        "id": "Gljb9Pvc9l7o"
      }
    }
  ]
}