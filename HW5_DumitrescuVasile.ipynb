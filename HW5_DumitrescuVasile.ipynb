{
  "nbformat": 4,
  "nbformat_minor": 0,
  "metadata": {
    "colab": {
      "provenance": []
    },
    "kernelspec": {
      "name": "python3",
      "display_name": "Python 3"
    },
    "language_info": {
      "name": "python"
    }
  },
  "cells": [
    {
      "cell_type": "markdown",
      "source": [
        "# Homework"
      ],
      "metadata": {
        "id": "h6E2qrjyTRrJ"
      }
    },
    {
      "cell_type": "markdown",
      "source": [
        "## Task 1"
      ],
      "metadata": {
        "id": "8IT52A4pTXT1"
      }
    },
    {
      "cell_type": "markdown",
      "source": [
        "$(2ax+3b)'$ = $2a$\n"
      ],
      "metadata": {
        "id": "TSD_TAohQsaz"
      }
    },
    {
      "cell_type": "code",
      "execution_count": null,
      "metadata": {
        "colab": {
          "base_uri": "https://localhost:8080/"
        },
        "id": "pvidkCwrQrya",
        "outputId": "2a77f86e-5325-4ede-fdfb-0052381d4fb6"
      },
      "outputs": [
        {
          "output_type": "stream",
          "name": "stdout",
          "text": [
            "2*a\n"
          ]
        }
      ],
      "source": [
        "from sympy import diff, symbols, cos, sin\n",
        "x = symbols('x')\n",
        "\n",
        "\n",
        "print(diff((2*a*x+3*b),x))\n"
      ]
    },
    {
      "cell_type": "markdown",
      "source": [
        "## Task 2"
      ],
      "metadata": {
        "id": "kNQuRJ26Tdth"
      }
    },
    {
      "cell_type": "markdown",
      "source": [
        "$(6x^2+4x+1)'$ = $12x+4$"
      ],
      "metadata": {
        "id": "IpPxPpfYTg37"
      }
    },
    {
      "cell_type": "code",
      "source": [
        "from sympy import diff, symbols, cos, sin\n",
        "x = symbols('x')\n",
        "\n",
        "\n",
        "print(diff((6*x*x+4*x+1)))"
      ],
      "metadata": {
        "colab": {
          "base_uri": "https://localhost:8080/"
        },
        "id": "lXMsinfpTvZg",
        "outputId": "99e2686c-e19b-4299-8892-23f668b32216"
      },
      "execution_count": null,
      "outputs": [
        {
          "output_type": "stream",
          "name": "stdout",
          "text": [
            "12*x + 4\n"
          ]
        }
      ]
    },
    {
      "cell_type": "markdown",
      "source": [
        "## Task 3"
      ],
      "metadata": {
        "id": "E3Z4V3kmT7WE"
      }
    },
    {
      "cell_type": "markdown",
      "source": [
        "$\\sqrt[3]{2x}'$ = $\\frac{1}{3} ⋅ \\sqrt[3]{2} \\cdot \\sqrt[3]{x^2}= \\frac{\\sqrt[3]{3}}{2} \\cdot \\sqrt{x}$"
      ],
      "metadata": {
        "id": "JlPlLc6cT9x-"
      }
    },
    {
      "cell_type": "code",
      "source": [
        "from sympy import diff, symbols, cos, sin, cbrt\n",
        "x = symbols('x')\n",
        "\n",
        "print(diff((cbrt(2*x))))\n",
        "print((3/2)*(2**1.5)) # Перевіряємо чому дорівнює 3/2*(2**1.5)"
      ],
      "metadata": {
        "colab": {
          "base_uri": "https://localhost:8080/"
        },
        "id": "mqz3itcaVYH_",
        "outputId": "d1c37db2-dd17-4f20-b2bb-560e0848e20c"
      },
      "execution_count": null,
      "outputs": [
        {
          "output_type": "stream",
          "name": "stdout",
          "text": [
            "2**(1/3)/(3*x**(2/3))\n",
            "4.242640687119286\n"
          ]
        }
      ]
    },
    {
      "cell_type": "markdown",
      "source": [
        "## Task 4\n",
        "\n",
        "$(2sin(x))' = 2 cos(x)$"
      ],
      "metadata": {
        "id": "Rgb6E54cV9zT"
      }
    },
    {
      "cell_type": "code",
      "source": [
        "from sympy import diff, symbols, cos, sin\n",
        "x = symbols('x')\n",
        "\n",
        "print(diff(2*sin(x)))"
      ],
      "metadata": {
        "colab": {
          "base_uri": "https://localhost:8080/"
        },
        "id": "aymIxm1qX9Mp",
        "outputId": "c8cd506c-eb51-4d48-ba08-111297c453b3"
      },
      "execution_count": null,
      "outputs": [
        {
          "output_type": "stream",
          "name": "stdout",
          "text": [
            "2*cos(x)\n"
          ]
        }
      ]
    },
    {
      "cell_type": "markdown",
      "source": [
        "## Task 5\n",
        "\n",
        "$(cos(2x))' = -2 sin(2x)$"
      ],
      "metadata": {
        "id": "_rwaEWH4YQwi"
      }
    },
    {
      "cell_type": "code",
      "source": [
        "from sympy import diff, symbols, cos, sin\n",
        "x = symbols('x')\n",
        "\n",
        "print(diff(cos(2*x)))"
      ],
      "metadata": {
        "colab": {
          "base_uri": "https://localhost:8080/"
        },
        "outputId": "a4504777-56ed-4ed2-aa50-6b0da677a261",
        "id": "LlDccqvoYgdM"
      },
      "execution_count": null,
      "outputs": [
        {
          "output_type": "stream",
          "name": "stdout",
          "text": [
            "-2*sin(2*x)\n"
          ]
        }
      ]
    },
    {
      "cell_type": "markdown",
      "source": [
        "## Task 6\n",
        "\n",
        "$(5e^x)' = 5e^x$"
      ],
      "metadata": {
        "id": "cdR4g_tkYt9G"
      }
    },
    {
      "cell_type": "code",
      "source": [
        "from sympy import diff, symbols, cos, sin\n",
        "import math\n",
        "x = symbols('x')\n",
        "\n",
        "print(diff(5*(math.e)**x))"
      ],
      "metadata": {
        "colab": {
          "base_uri": "https://localhost:8080/"
        },
        "id": "EbPn42dUY5M8",
        "outputId": "3da46799-5246-4c7e-9814-167c4b9a1a02"
      },
      "execution_count": null,
      "outputs": [
        {
          "output_type": "stream",
          "name": "stdout",
          "text": [
            "5.0*2.71828182845905**x\n"
          ]
        }
      ]
    },
    {
      "cell_type": "markdown",
      "source": [
        "## Task 7\n",
        "\n",
        "$$f(x)=6x^2+2x+2008.$$\n",
        "$$f'(x)=12x+2, x=4$$\n",
        "$$f'(4)=12\\cdot4+2 = 48 + 2 = 50$$"
      ],
      "metadata": {
        "id": "RXeeS-o3ZVAE"
      }
    },
    {
      "cell_type": "code",
      "source": [
        "from sympy import diff, symbols, cos, sin\n",
        "import math\n",
        "x = symbols('x')\n",
        "\n",
        "dy = diff(6*x**2+2*x+2008)\n",
        "print(dy)\n",
        "print(dy.subs(x,4))\n"
      ],
      "metadata": {
        "colab": {
          "base_uri": "https://localhost:8080/"
        },
        "id": "PfNtTrGgaIMr",
        "outputId": "f0202c13-e3a8-4b3e-ae2e-ce2fd7634b8c"
      },
      "execution_count": null,
      "outputs": [
        {
          "output_type": "stream",
          "name": "stdout",
          "text": [
            "12*x + 2\n",
            "50\n"
          ]
        }
      ]
    },
    {
      "cell_type": "markdown",
      "source": [
        "## Task 8"
      ],
      "metadata": {
        "id": "u28dNGl2dnt1"
      }
    },
    {
      "cell_type": "markdown",
      "source": [
        "$1)$$(\\frac{x^3}{3}+\\frac{x^2}{2}-2x)'=x^2+x-2$  \n",
        "$x=1$ і $x=-1/2$  \n",
        "$f'(1) = 1+1-2 = 0$  \n",
        "$f'(-\\frac{1}{2}) = \\frac{1}{4}-\\frac{1}{2}-2 = -2 \\frac{1}{4}$  \n",
        "\n",
        "\n",
        "\n"
      ],
      "metadata": {
        "id": "8Lwg2tgXbZMJ"
      }
    },
    {
      "cell_type": "markdown",
      "source": [
        "$(x^2)'$"
      ],
      "metadata": {
        "id": "RnNqzkNn50Xg"
      }
    },
    {
      "cell_type": "code",
      "source": [
        "from sympy import diff, symbols, cos, sin\n",
        "x = symbols('x')\n",
        "\n",
        "dy = diff(x**3/3+x**2/2-2*x)\n",
        "print(dy)\n",
        "print(dy.subs(x,1))\n",
        "print(dy.subs(x,-0.5))"
      ],
      "metadata": {
        "colab": {
          "base_uri": "https://localhost:8080/"
        },
        "id": "fIQg1y1FjkI6",
        "outputId": "3e4e7722-d5b8-48e8-b782-b758e9be5eca"
      },
      "execution_count": null,
      "outputs": [
        {
          "output_type": "stream",
          "name": "stdout",
          "text": [
            "x**2 + x - 2\n",
            "0\n",
            "-2.25000000000000\n"
          ]
        }
      ]
    },
    {
      "cell_type": "markdown",
      "source": [
        "$2)$$(\\sqrt{x^2+1})'=\\frac{1}{2}\\frac{2x}{\\sqrt{x^2+1}}=\\frac{x}{\\sqrt{x^2+1}}$  \n",
        "\n",
        "$x=1$ і $x=-1/2$  \n",
        "$f'(1) =\\frac{1}{\\sqrt{1^2+1}} = \\frac{1}{\\sqrt{2}}$  \n",
        "$f'(-\\frac{1}{2}) = \\frac{ -\\frac{1}{2}}{\\sqrt{(-\\frac{1}{2})^2+1}} = \\frac{ -\\frac{1}{2}}{\\sqrt{\\frac{1}{4}+1}}= \\frac{ -\\frac{1}{2}}{\\sqrt{\\frac{5}{4}}}=\\frac{ -\\frac{1}{2}}{\\sqrt{\\frac{5}{4}}} = -\\frac{1}{\\sqrt{5}} $  \n",
        "\n"
      ],
      "metadata": {
        "id": "YWl8qgQnloqf"
      }
    },
    {
      "cell_type": "code",
      "source": [
        "from sympy import diff, symbols, cos, sin\n",
        "x = symbols('x')\n",
        "\n",
        "dy = diff((x**2+1)**0.5)\n",
        "print(dy)\n",
        "print(dy.subs(x,1))\n",
        "print(dy.subs(x,-0.5))"
      ],
      "metadata": {
        "colab": {
          "base_uri": "https://localhost:8080/"
        },
        "id": "lis9DHVBb_Ur",
        "outputId": "af346bb5-d0ff-4d8e-b991-ae1fca064ada"
      },
      "execution_count": null,
      "outputs": [
        {
          "output_type": "stream",
          "name": "stdout",
          "text": [
            "1.0*x/(x**2 + 1)**0.5\n",
            "0.707106781186548\n",
            "-0.447213595499958\n"
          ]
        }
      ]
    },
    {
      "cell_type": "markdown",
      "source": [
        "$3)$$(\\frac{1}{\\sqrt{x^2+1}})'=-\\frac{1}{2}\\frac{2x}{\\sqrt{(x^2+1)^3}}=\\frac{-x}{\\sqrt{(x^2+1)^3}}$\n",
        "\n",
        "$x=1$ і $x=-1/2$  \n",
        "$f'(1) =\\frac{-x}{\\sqrt{(x^2+1)^3}}=\\frac{-1}{\\sqrt{(1^2+1)^3}}= -\\frac{1}{\\sqrt{2^3}} = -\\frac{1}{2\\sqrt{2}}$  \n",
        "$f'(-\\frac{1}{2}) =\\frac{-x}{\\sqrt{(x^2+1)^3}}= \\frac{\\frac{1}{2}}{\\sqrt{((-\\frac{1}{2})^2+1)^3}} = \\frac{1}{2\\sqrt{(\\frac{5}{4})^3}} = \\frac{4}{\\sqrt{125}}$"
      ],
      "metadata": {
        "id": "vtrcZY_KlraW"
      }
    },
    {
      "cell_type": "code",
      "source": [
        "from sympy import diff, symbols, cos, sin\n",
        "x = symbols('x')\n",
        "\n",
        "dy = diff((1/(x**2+1)**0.5))\n",
        "print(dy)\n",
        "print(dy.subs(x,1))\n",
        "print(dy.subs(x,-0.5))"
      ],
      "metadata": {
        "colab": {
          "base_uri": "https://localhost:8080/"
        },
        "id": "0jlE50t2dHB9",
        "outputId": "657d062d-7790-4654-b8a8-dd98b886476f"
      },
      "execution_count": null,
      "outputs": [
        {
          "output_type": "stream",
          "name": "stdout",
          "text": [
            "-1.0*x/(x**2 + 1)**1.5\n",
            "-0.353553390593274\n",
            "0.357770876399966\n"
          ]
        }
      ]
    }
  ]
}